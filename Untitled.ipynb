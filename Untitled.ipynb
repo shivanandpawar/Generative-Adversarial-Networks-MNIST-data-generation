{
 "cells": [
  {
   "cell_type": "code",
   "execution_count": 1,
   "id": "7f54a0a4",
   "metadata": {},
   "outputs": [
    {
     "name": "stderr",
     "output_type": "stream",
     "text": [
      "UsageError: Line magic function `%gpt` not found.\n"
     ]
    }
   ],
   "source": [
    "%gpt"
   ]
  },
  {
   "cell_type": "code",
   "execution_count": null,
   "id": "29ad704f",
   "metadata": {},
   "outputs": [],
   "source": [
    "%gpt abcd"
   ]
  },
  {
   "cell_type": "code",
   "execution_count": null,
   "id": "e07801c5",
   "metadata": {},
   "outputs": [],
   "source": []
  }
 ],
 "metadata": {
  "kernelspec": {
   "display_name": "Python 3",
   "language": "python",
   "name": "python3"
  },
  "language_info": {
   "codemirror_mode": {
    "name": "ipython",
    "version": 3
   },
   "file_extension": ".py",
   "mimetype": "text/x-python",
   "name": "python",
   "nbconvert_exporter": "python",
   "pygments_lexer": "ipython3",
   "version": "3.8.13"
  }
 },
 "nbformat": 4,
 "nbformat_minor": 5
}
